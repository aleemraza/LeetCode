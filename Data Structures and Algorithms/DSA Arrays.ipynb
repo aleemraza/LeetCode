{
 "cells": [
  {
   "cell_type": "markdown",
   "id": "662d8458",
   "metadata": {},
   "source": [
    "Arrays\n",
    "An array is a data structure used to store multiple elements.\n",
    "Arrays are used by many algorithms.\n"
   ]
  },
  {
   "cell_type": "markdown",
   "id": "6427dec6",
   "metadata": {},
   "source": [
    "Algorithm: Find The Lowest Value in an Array\n",
    "Let's create our first algorithm using the array data structure.\n",
    "Below is the algorithm to find the lowest number in an array.\n",
    "my_array = [7, 12, 9, 4, 11]\n"
   ]
  },
  {
   "cell_type": "code",
   "execution_count": 1,
   "id": "debf7386",
   "metadata": {},
   "outputs": [
    {
     "name": "stdout",
     "output_type": "stream",
     "text": [
      "find lowest value 4\n"
     ]
    }
   ],
   "source": [
    "my_array = [7, 12, 9, 4, 11]\n",
    "new_value = my_array[0]\n",
    "for i in my_array:\n",
    "    if i < new_value:\n",
    "        new_value = i\n",
    "print(\"find lowest value\", new_value)"
   ]
  }
 ],
 "metadata": {
  "kernelspec": {
   "display_name": "Python 3",
   "language": "python",
   "name": "python3"
  },
  "language_info": {
   "codemirror_mode": {
    "name": "ipython",
    "version": 3
   },
   "file_extension": ".py",
   "mimetype": "text/x-python",
   "name": "python",
   "nbconvert_exporter": "python",
   "pygments_lexer": "ipython3",
   "version": "3.10.0"
  }
 },
 "nbformat": 4,
 "nbformat_minor": 5
}
