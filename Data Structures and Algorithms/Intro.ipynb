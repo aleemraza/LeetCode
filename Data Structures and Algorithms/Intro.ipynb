{
 "cells": [
  {
   "cell_type": "markdown",
   "id": "7fefb65a",
   "metadata": {},
   "source": [
    "Data Structures and Algorithms:\n",
    "Data Structures and Algorithms (DSA) is a fundamental part of Computer Science that teaches you how to think and solve complex problems systematically.\n",
    "Using the right data structure and algorithm makes your program run faster, especially when working with lots of data.\n"
   ]
  },
  {
   "cell_type": "code",
   "execution_count": 8,
   "id": "2f3b777e",
   "metadata": {},
   "outputs": [
    {
     "name": "stdout",
     "output_type": "stream",
     "text": [
      "lowest value in this array:> 1\n"
     ]
    }
   ],
   "source": [
    "my_array = [5,2,4,7,8,9,1]\n",
    "min_Value = my_array[0]\n",
    "for i in my_array:\n",
    "    if i < min_Value:\n",
    "        min_Value = i\n",
    "print(\"lowest value in this array:>\", min_Value)        "
   ]
  },
  {
   "cell_type": "markdown",
   "id": "88ee8310",
   "metadata": {},
   "source": [
    "Data Structures: is about how data can be stored in different structures.\n",
    "Algorithms: is about how to solve different problems, often by searching through and manipulating data structures.\n",
    "Theory about Data Structures and Algorithms (DSA) helps us to use large amounts of data to solve problems efficiently.\n",
    "\n",
    "Primitive Data Structures: are basic data structures provided by programming languages to represent single values, such as integers, floating-point numbers, characters, and booleans.\n",
    "\n",
    "Abstract Data Structures: are higher-level data structures that are built using primitive data types and provide more complex and specialized operations. Some common examples of abstract data structures include arrays, linked lists, stacks, queues, trees, and graphs.\n"
   ]
  },
  {
   "cell_type": "markdown",
   "id": "a16f1870",
   "metadata": {},
   "source": [
    "It can be a good idea to list what the code must contain or do before programming it:\n",
    "\n",
    "Two variables to hold the previous two Fibonacci numbers\n",
    "A for loop that runs 18 times\n",
    "Create new Fibonacci numbers by adding the two previous ones\n",
    "Print the new Fibonacci number\n",
    "Update the variables that hold the previous two fibonacci numbers\n"
   ]
  },
  {
   "cell_type": "code",
   "execution_count": 11,
   "id": "41431673",
   "metadata": {},
   "outputs": [
    {
     "name": "stdout",
     "output_type": "stream",
     "text": [
      "prev_1 and prev_2 1 0\n",
      "1\n",
      "2\n",
      "3\n",
      "5\n",
      "8\n",
      "13\n",
      "21\n",
      "34\n",
      "55\n",
      "89\n",
      "144\n",
      "233\n",
      "377\n",
      "610\n",
      "987\n",
      "1597\n",
      "2584\n",
      "4181\n"
     ]
    }
   ],
   "source": [
    "prev_1 = 1\n",
    "prev_2 = 0\n",
    "print(\"prev_1 and prev_2\", prev_1,prev_2)\n",
    "for i in range(18):\n",
    "    new_Fib = prev_1 + prev_2\n",
    "    print(new_Fib)\n",
    "    prev_2 = prev_1\n",
    "    prev_1 = new_Fib\n"
   ]
  },
  {
   "cell_type": "code",
   "execution_count": null,
   "id": "5dd93b63",
   "metadata": {},
   "outputs": [],
   "source": []
  }
 ],
 "metadata": {
  "kernelspec": {
   "display_name": "Python 3",
   "language": "python",
   "name": "python3"
  },
  "language_info": {
   "codemirror_mode": {
    "name": "ipython",
    "version": 3
   },
   "file_extension": ".py",
   "mimetype": "text/x-python",
   "name": "python",
   "nbconvert_exporter": "python",
   "pygments_lexer": "ipython3",
   "version": "3.10.0"
  }
 },
 "nbformat": 4,
 "nbformat_minor": 5
}
