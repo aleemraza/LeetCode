{
 "cells": [
  {
   "cell_type": "markdown",
   "id": "c299badb",
   "metadata": {},
   "source": [
    "Bubble Sort\n",
    "Bubble Sort is an algorithm that sorts an array from the lowest value to the highest value.\n",
    "\n",
    "How it works:\n",
    "\n",
    "Go through the array, one value at a time.\n",
    "For each value, compare the value with the next value.\n",
    "If the value is higher than the next one, swap the values so that the highest value comes last.\n",
    "Go through the array as many times as there are values in the array.\n"
   ]
  },
  {
   "cell_type": "code",
   "execution_count": null,
   "id": "748dda4e",
   "metadata": {},
   "outputs": [
    {
     "name": "stdout",
     "output_type": "stream",
     "text": [
      "lenght of the array 8\n",
      "sort the array [0, 1, 2, 3, 7, 9, 11, 12]\n"
     ]
    }
   ],
   "source": [
    "my_array = [7,12,9,11,3,2,1,0]\n",
    "n = len(my_array)\n",
    "print(\"lenght of the array\",n)\n",
    "for i in range(n-1):\n",
    "    for j in range(n-i-1):\n",
    "        if my_array[j] > my_array[j+1]:\n",
    "            my_array[j] , my_array[j+1] = my_array[j+1] , my_array[j]\n",
    "print(\"sort the array\", my_array)"
   ]
  },
  {
   "cell_type": "code",
   "execution_count": 3,
   "id": "d46c8d20",
   "metadata": {},
   "outputs": [
    {
     "name": "stdout",
     "output_type": "stream",
     "text": [
      "sort [3, 7, 9, 11, 12]\n"
     ]
    }
   ],
   "source": [
    "my_array = [7,12,9,11,3]\n",
    "n = len(my_array)\n",
    "for i in range(n-1):\n",
    "    sawap = False\n",
    "    for j in range(n-i-1):\n",
    "        if my_array[j] > my_array[j+1]:\n",
    "            my_array[j] , my_array[j+1] = my_array[j+1], my_array[j]\n",
    "        sawap = True\n",
    "    if not sawap:\n",
    "        break\n",
    "print(\"sort\", my_array)                          "
   ]
  }
 ],
 "metadata": {
  "kernelspec": {
   "display_name": "Python 3",
   "language": "python",
   "name": "python3"
  },
  "language_info": {
   "codemirror_mode": {
    "name": "ipython",
    "version": 3
   },
   "file_extension": ".py",
   "mimetype": "text/x-python",
   "name": "python",
   "nbconvert_exporter": "python",
   "pygments_lexer": "ipython3",
   "version": "3.10.0"
  }
 },
 "nbformat": 4,
 "nbformat_minor": 5
}
